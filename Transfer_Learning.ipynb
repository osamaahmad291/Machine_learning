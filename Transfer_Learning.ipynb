{
  "nbformat": 4,
  "nbformat_minor": 0,
  "metadata": {
    "colab": {
      "name": "Transfer_Learning.ipynb",
      "provenance": [],
      "collapsed_sections": [],
      "authorship_tag": "ABX9TyMKb+TPkak4nCcnJyb87cvU",
      "include_colab_link": true
    },
    "kernelspec": {
      "name": "python3",
      "display_name": "Python 3"
    },
    "language_info": {
      "name": "python"
    },
    "accelerator": "GPU"
  },
  "cells": [
    {
      "cell_type": "markdown",
      "metadata": {
        "id": "view-in-github",
        "colab_type": "text"
      },
      "source": [
        "<a href=\"https://colab.research.google.com/github/osamaahmad291/Machine_learning/blob/main/Transfer_Learning.ipynb\" target=\"_parent\"><img src=\"https://colab.research.google.com/assets/colab-badge.svg\" alt=\"Open In Colab\"/></a>"
      ]
    },
    {
      "cell_type": "code",
      "metadata": {
        "colab": {
          "base_uri": "https://localhost:8080/"
        },
        "id": "yMDNAA2TQX6T",
        "outputId": "9e8bc5a2-9753-4dd5-9b95-354214d3c0ff"
      },
      "source": [
        "import tensorflow as tf\n",
        "\n",
        "# Create a Constant op that produces a 1x2 matrix.  The op is\n",
        "# added as a node to the default graph.\n",
        "#\n",
        "# The value returned by the constructor represents the output\n",
        "# of the Constant op.\n",
        "matrix1 = tf.constant([[3., 3.]])\n",
        "\n",
        "# Create another Constant that produces a 2x1 matrix.\n",
        "matrix2 = tf.constant([[2.],[2.]])\n",
        "\n",
        "# Create a Matmul op that takes 'matrix1' and 'matrix2' as inputs.\n",
        "# The returned value, 'product', represents the result of the matrix\n",
        "# multiplication.\n",
        "product = tf.matmul(matrix1, matrix2)\n",
        "print(product)\n",
        "print(float(product))\n"
      ],
      "execution_count": 3,
      "outputs": [
        {
          "output_type": "stream",
          "text": [
            "tf.Tensor([[3. 3.]], shape=(1, 2), dtype=float32)\n",
            "tf.Tensor(\n",
            "[[2.]\n",
            " [2.]], shape=(2, 1), dtype=float32)\n",
            "tf.Tensor([[12.]], shape=(1, 1), dtype=float32)\n",
            "12.0\n",
            "tf.Tensor(\n",
            "[[6. 6.]\n",
            " [6. 6.]], shape=(2, 2), dtype=float32)\n"
          ],
          "name": "stdout"
        }
      ]
    },
    {
      "cell_type": "code",
      "metadata": {
        "colab": {
          "base_uri": "https://localhost:8080/"
        },
        "id": "SNsY5vgtU29y",
        "outputId": "f2c9be94-fa70-4050-834b-3ce3857ff630"
      },
      "source": [
        "import tensorflow as tf\n",
        "\n",
        "x = tf.Variable([1.0, 2.0])\n",
        "a = tf.constant([3.0, 3.0])\n",
        "\n",
        "# Add an op to subtract 'a' from 'x'.  Run it and print the result\n",
        "sub = tf.subtract(x, a)\n",
        "print(sub)\n",
        "print(sub.numpy())\n",
        "# ==> [-2. -1.]"
      ],
      "execution_count": 4,
      "outputs": [
        {
          "output_type": "stream",
          "text": [
            "tf.Tensor([-2. -1.], shape=(2,), dtype=float32)\n",
            "[-2. -1.]\n"
          ],
          "name": "stdout"
        }
      ]
    },
    {
      "cell_type": "code",
      "metadata": {
        "colab": {
          "base_uri": "https://localhost:8080/"
        },
        "id": "WJc9Nmf1U9nf",
        "outputId": "5864f40e-5a9e-4d1f-d8c5-b38ae8a15c46"
      },
      "source": [
        "x.assign([4.0, 6.0])"
      ],
      "execution_count": 5,
      "outputs": [
        {
          "output_type": "execute_result",
          "data": {
            "text/plain": [
              "<tf.Variable 'UnreadVariable' shape=(2,) dtype=float32, numpy=array([4., 6.], dtype=float32)>"
            ]
          },
          "metadata": {
            "tags": []
          },
          "execution_count": 5
        }
      ]
    },
    {
      "cell_type": "code",
      "metadata": {
        "colab": {
          "base_uri": "https://localhost:8080/"
        },
        "id": "pBiU8PqgVE8h",
        "outputId": "4a5791b0-cfdf-4668-a9c0-91c5f44fca91"
      },
      "source": [
        "sub = tf.subtract(x, a)\n",
        "print(sub)\n",
        "print(sub.numpy())"
      ],
      "execution_count": 6,
      "outputs": [
        {
          "output_type": "stream",
          "text": [
            "tf.Tensor([1. 3.], shape=(2,), dtype=float32)\n",
            "[1. 3.]\n"
          ],
          "name": "stdout"
        }
      ]
    },
    {
      "cell_type": "code",
      "metadata": {
        "colab": {
          "base_uri": "https://localhost:8080/"
        },
        "id": "7qta1R5SVSRR",
        "outputId": "85f05b50-bf68-4578-9923-8b253408c5a5"
      },
      "source": [
        "\n",
        "import pandas as pd\n",
        "import io\n",
        "import requests\n",
        "import numpy as np\n",
        "from sklearn import metrics\n",
        "from tensorflow.keras.models import Sequential\n",
        "from tensorflow.keras.layers import Dense, Activation\n",
        "from tensorflow.keras.callbacks import EarlyStopping\n",
        "\n",
        "df = pd.read_csv(\n",
        "    \"https://data.heatonresearch.com/data/t81-558/iris.csv\", \n",
        "    na_values=['NA', '?'])\n",
        "\n",
        "# Convert to numpy - Classification\n",
        "x = df[['sepal_l', 'sepal_w', 'petal_l', 'petal_w']].values\n",
        "dummies = pd.get_dummies(df['species']) # Classification\n",
        "species = dummies.columns\n",
        "y = dummies.values\n",
        "\n",
        "\n",
        "# Build neural network\n",
        "model = Sequential()\n",
        "model.add(Dense(50, input_dim=x.shape[1], activation='relu')) # Hidden 1\n",
        "model.add(Dense(25, activation='relu')) # Hidden 2\n",
        "model.add(Dense(y.shape[1],activation='softmax')) # Output\n",
        "\n",
        "model.compile(loss='categorical_crossentropy', optimizer='adam')\n",
        "model.fit(x,y,verbose=2,epochs=100)"
      ],
      "execution_count": 1,
      "outputs": [
        {
          "output_type": "stream",
          "text": [
            "Epoch 1/100\n",
            "5/5 - 3s - loss: 1.1286\n",
            "Epoch 2/100\n",
            "5/5 - 0s - loss: 0.9081\n",
            "Epoch 3/100\n",
            "5/5 - 0s - loss: 0.8374\n",
            "Epoch 4/100\n",
            "5/5 - 0s - loss: 0.7867\n",
            "Epoch 5/100\n",
            "5/5 - 0s - loss: 0.7378\n",
            "Epoch 6/100\n",
            "5/5 - 0s - loss: 0.6879\n",
            "Epoch 7/100\n",
            "5/5 - 0s - loss: 0.6474\n",
            "Epoch 8/100\n",
            "5/5 - 0s - loss: 0.6090\n",
            "Epoch 9/100\n",
            "5/5 - 0s - loss: 0.5732\n",
            "Epoch 10/100\n",
            "5/5 - 0s - loss: 0.5397\n",
            "Epoch 11/100\n",
            "5/5 - 0s - loss: 0.5104\n",
            "Epoch 12/100\n",
            "5/5 - 0s - loss: 0.4849\n",
            "Epoch 13/100\n",
            "5/5 - 0s - loss: 0.4645\n",
            "Epoch 14/100\n",
            "5/5 - 0s - loss: 0.4446\n",
            "Epoch 15/100\n",
            "5/5 - 0s - loss: 0.4277\n",
            "Epoch 16/100\n",
            "5/5 - 0s - loss: 0.4099\n",
            "Epoch 17/100\n",
            "5/5 - 0s - loss: 0.3951\n",
            "Epoch 18/100\n",
            "5/5 - 0s - loss: 0.3840\n",
            "Epoch 19/100\n",
            "5/5 - 0s - loss: 0.3712\n",
            "Epoch 20/100\n",
            "5/5 - 0s - loss: 0.3595\n",
            "Epoch 21/100\n",
            "5/5 - 0s - loss: 0.3489\n",
            "Epoch 22/100\n",
            "5/5 - 0s - loss: 0.3383\n",
            "Epoch 23/100\n",
            "5/5 - 0s - loss: 0.3295\n",
            "Epoch 24/100\n",
            "5/5 - 0s - loss: 0.3203\n",
            "Epoch 25/100\n",
            "5/5 - 0s - loss: 0.3109\n",
            "Epoch 26/100\n",
            "5/5 - 0s - loss: 0.3025\n",
            "Epoch 27/100\n",
            "5/5 - 0s - loss: 0.2948\n",
            "Epoch 28/100\n",
            "5/5 - 0s - loss: 0.2875\n",
            "Epoch 29/100\n",
            "5/5 - 0s - loss: 0.2789\n",
            "Epoch 30/100\n",
            "5/5 - 0s - loss: 0.2733\n",
            "Epoch 31/100\n",
            "5/5 - 0s - loss: 0.2647\n",
            "Epoch 32/100\n",
            "5/5 - 0s - loss: 0.2558\n",
            "Epoch 33/100\n",
            "5/5 - 0s - loss: 0.2512\n",
            "Epoch 34/100\n",
            "5/5 - 0s - loss: 0.2443\n",
            "Epoch 35/100\n",
            "5/5 - 0s - loss: 0.2357\n",
            "Epoch 36/100\n",
            "5/5 - 0s - loss: 0.2296\n",
            "Epoch 37/100\n",
            "5/5 - 0s - loss: 0.2227\n",
            "Epoch 38/100\n",
            "5/5 - 0s - loss: 0.2175\n",
            "Epoch 39/100\n",
            "5/5 - 0s - loss: 0.2111\n",
            "Epoch 40/100\n",
            "5/5 - 0s - loss: 0.2062\n",
            "Epoch 41/100\n",
            "5/5 - 0s - loss: 0.2008\n",
            "Epoch 42/100\n",
            "5/5 - 0s - loss: 0.1953\n",
            "Epoch 43/100\n",
            "5/5 - 0s - loss: 0.1897\n",
            "Epoch 44/100\n",
            "5/5 - 0s - loss: 0.1849\n",
            "Epoch 45/100\n",
            "5/5 - 0s - loss: 0.1796\n",
            "Epoch 46/100\n",
            "5/5 - 0s - loss: 0.1765\n",
            "Epoch 47/100\n",
            "5/5 - 0s - loss: 0.1720\n",
            "Epoch 48/100\n",
            "5/5 - 0s - loss: 0.1668\n",
            "Epoch 49/100\n",
            "5/5 - 0s - loss: 0.1629\n",
            "Epoch 50/100\n",
            "5/5 - 0s - loss: 0.1607\n",
            "Epoch 51/100\n",
            "5/5 - 0s - loss: 0.1561\n",
            "Epoch 52/100\n",
            "5/5 - 0s - loss: 0.1525\n",
            "Epoch 53/100\n",
            "5/5 - 0s - loss: 0.1533\n",
            "Epoch 54/100\n",
            "5/5 - 0s - loss: 0.1563\n",
            "Epoch 55/100\n",
            "5/5 - 0s - loss: 0.1414\n",
            "Epoch 56/100\n",
            "5/5 - 0s - loss: 0.1416\n",
            "Epoch 57/100\n",
            "5/5 - 0s - loss: 0.1389\n",
            "Epoch 58/100\n",
            "5/5 - 0s - loss: 0.1339\n",
            "Epoch 59/100\n",
            "5/5 - 0s - loss: 0.1316\n",
            "Epoch 60/100\n",
            "5/5 - 0s - loss: 0.1289\n",
            "Epoch 61/100\n",
            "5/5 - 0s - loss: 0.1262\n",
            "Epoch 62/100\n",
            "5/5 - 0s - loss: 0.1248\n",
            "Epoch 63/100\n",
            "5/5 - 0s - loss: 0.1229\n",
            "Epoch 64/100\n",
            "5/5 - 0s - loss: 0.1189\n",
            "Epoch 65/100\n",
            "5/5 - 0s - loss: 0.1199\n",
            "Epoch 66/100\n",
            "5/5 - 0s - loss: 0.1160\n",
            "Epoch 67/100\n",
            "5/5 - 0s - loss: 0.1141\n",
            "Epoch 68/100\n",
            "5/5 - 0s - loss: 0.1122\n",
            "Epoch 69/100\n",
            "5/5 - 0s - loss: 0.1111\n",
            "Epoch 70/100\n",
            "5/5 - 0s - loss: 0.1093\n",
            "Epoch 71/100\n",
            "5/5 - 0s - loss: 0.1079\n",
            "Epoch 72/100\n",
            "5/5 - 0s - loss: 0.1052\n",
            "Epoch 73/100\n",
            "5/5 - 0s - loss: 0.1073\n",
            "Epoch 74/100\n",
            "5/5 - 0s - loss: 0.1064\n",
            "Epoch 75/100\n",
            "5/5 - 0s - loss: 0.1022\n",
            "Epoch 76/100\n",
            "5/5 - 0s - loss: 0.1009\n",
            "Epoch 77/100\n",
            "5/5 - 0s - loss: 0.1019\n",
            "Epoch 78/100\n",
            "5/5 - 0s - loss: 0.1021\n",
            "Epoch 79/100\n",
            "5/5 - 0s - loss: 0.0973\n",
            "Epoch 80/100\n",
            "5/5 - 0s - loss: 0.0965\n",
            "Epoch 81/100\n",
            "5/5 - 0s - loss: 0.0946\n",
            "Epoch 82/100\n",
            "5/5 - 0s - loss: 0.0956\n",
            "Epoch 83/100\n",
            "5/5 - 0s - loss: 0.0946\n",
            "Epoch 84/100\n",
            "5/5 - 0s - loss: 0.0936\n",
            "Epoch 85/100\n",
            "5/5 - 0s - loss: 0.0909\n",
            "Epoch 86/100\n",
            "5/5 - 0s - loss: 0.0914\n",
            "Epoch 87/100\n",
            "5/5 - 0s - loss: 0.0888\n",
            "Epoch 88/100\n",
            "5/5 - 0s - loss: 0.0894\n",
            "Epoch 89/100\n",
            "5/5 - 0s - loss: 0.0893\n",
            "Epoch 90/100\n",
            "5/5 - 0s - loss: 0.0862\n",
            "Epoch 91/100\n",
            "5/5 - 0s - loss: 0.0904\n",
            "Epoch 92/100\n",
            "5/5 - 0s - loss: 0.0864\n",
            "Epoch 93/100\n",
            "5/5 - 0s - loss: 0.0894\n",
            "Epoch 94/100\n",
            "5/5 - 0s - loss: 0.0838\n",
            "Epoch 95/100\n",
            "5/5 - 0s - loss: 0.0831\n",
            "Epoch 96/100\n",
            "5/5 - 0s - loss: 0.0837\n",
            "Epoch 97/100\n",
            "5/5 - 0s - loss: 0.0841\n",
            "Epoch 98/100\n",
            "5/5 - 0s - loss: 0.0829\n",
            "Epoch 99/100\n",
            "5/5 - 0s - loss: 0.0803\n",
            "Epoch 100/100\n",
            "5/5 - 0s - loss: 0.0797\n"
          ],
          "name": "stdout"
        },
        {
          "output_type": "execute_result",
          "data": {
            "text/plain": [
              "<tensorflow.python.keras.callbacks.History at 0x7fef700e08d0>"
            ]
          },
          "metadata": {
            "tags": []
          },
          "execution_count": 1
        }
      ]
    },
    {
      "cell_type": "code",
      "metadata": {
        "colab": {
          "base_uri": "https://localhost:8080/"
        },
        "id": "KWPPdE67GFKz",
        "outputId": "bcacb7d5-d793-4760-fa5b-0535ecac636a"
      },
      "source": [
        "\n",
        "from sklearn.metrics import accuracy_score\n",
        "pred = model.predict(x)\n",
        "predict_classes = np.argmax(pred,axis=1)\n",
        "expected_classes = np.argmax(y,axis=1)\n",
        "correct = accuracy_score(expected_classes,predict_classes)\n",
        "print(f\"Training Accuracy: {correct}\")"
      ],
      "execution_count": 2,
      "outputs": [
        {
          "output_type": "stream",
          "text": [
            "Training Accuracy: 0.98\n"
          ],
          "name": "stdout"
        }
      ]
    },
    {
      "cell_type": "code",
      "metadata": {
        "colab": {
          "base_uri": "https://localhost:8080/"
        },
        "id": "ej9rNpt7GIzJ",
        "outputId": "bb6249ce-5d36-4cac-dc4d-f86880fc7637"
      },
      "source": [
        "model.summary()"
      ],
      "execution_count": 3,
      "outputs": [
        {
          "output_type": "stream",
          "text": [
            "Model: \"sequential\"\n",
            "_________________________________________________________________\n",
            "Layer (type)                 Output Shape              Param #   \n",
            "=================================================================\n",
            "dense (Dense)                (None, 50)                250       \n",
            "_________________________________________________________________\n",
            "dense_1 (Dense)              (None, 25)                1275      \n",
            "_________________________________________________________________\n",
            "dense_2 (Dense)              (None, 3)                 78        \n",
            "=================================================================\n",
            "Total params: 1,603\n",
            "Trainable params: 1,603\n",
            "Non-trainable params: 0\n",
            "_________________________________________________________________\n"
          ],
          "name": "stdout"
        }
      ]
    },
    {
      "cell_type": "code",
      "metadata": {
        "colab": {
          "base_uri": "https://localhost:8080/"
        },
        "id": "kBa6Y9ZyGNpF",
        "outputId": "573dface-af60-42d5-f369-a74deafa7648"
      },
      "source": [
        "model2 = Sequential()\n",
        "for layer in model.layers:\n",
        "    model2.add(layer)\n",
        "model2.summary()"
      ],
      "execution_count": 4,
      "outputs": [
        {
          "output_type": "stream",
          "text": [
            "Model: \"sequential_1\"\n",
            "_________________________________________________________________\n",
            "Layer (type)                 Output Shape              Param #   \n",
            "=================================================================\n",
            "dense (Dense)                (None, 50)                250       \n",
            "_________________________________________________________________\n",
            "dense_1 (Dense)              (None, 25)                1275      \n",
            "_________________________________________________________________\n",
            "dense_2 (Dense)              (None, 3)                 78        \n",
            "=================================================================\n",
            "Total params: 1,603\n",
            "Trainable params: 1,603\n",
            "Non-trainable params: 0\n",
            "_________________________________________________________________\n"
          ],
          "name": "stdout"
        }
      ]
    },
    {
      "cell_type": "code",
      "metadata": {
        "colab": {
          "base_uri": "https://localhost:8080/"
        },
        "id": "E9nOJDoxGerb",
        "outputId": "5518f8cf-f774-48f5-f9d2-cffb71f89392"
      },
      "source": [
        "from sklearn.metrics import accuracy_score\n",
        "pred = model2.predict(x)\n",
        "predict_classes = np.argmax(pred,axis=1)\n",
        "expected_classes = np.argmax(y,axis=1)\n",
        "correct = accuracy_score(expected_classes,predict_classes)\n",
        "print(f\"Training Accuracy: {correct}\")"
      ],
      "execution_count": 6,
      "outputs": [
        {
          "output_type": "stream",
          "text": [
            "Training Accuracy: 0.98\n"
          ],
          "name": "stdout"
        }
      ]
    },
    {
      "cell_type": "code",
      "metadata": {
        "colab": {
          "base_uri": "https://localhost:8080/"
        },
        "id": "EmC9hCyaGhgC",
        "outputId": "82d04fd9-8791-409f-aa67-59149128c2dd"
      },
      "source": [
        "model3 = Sequential()\n",
        "for i in range(2):\n",
        "    layer = model.layers[i]\n",
        "    layer.trainable = False\n",
        "    model3.add(layer)\n",
        "model3.summary()"
      ],
      "execution_count": 7,
      "outputs": [
        {
          "output_type": "stream",
          "text": [
            "Model: \"sequential_2\"\n",
            "_________________________________________________________________\n",
            "Layer (type)                 Output Shape              Param #   \n",
            "=================================================================\n",
            "dense (Dense)                (None, 50)                250       \n",
            "_________________________________________________________________\n",
            "dense_1 (Dense)              (None, 25)                1275      \n",
            "=================================================================\n",
            "Total params: 1,525\n",
            "Trainable params: 0\n",
            "Non-trainable params: 1,525\n",
            "_________________________________________________________________\n"
          ],
          "name": "stdout"
        }
      ]
    },
    {
      "cell_type": "code",
      "metadata": {
        "colab": {
          "base_uri": "https://localhost:8080/"
        },
        "id": "ZuSkP48NGUPT",
        "outputId": "b51f1a49-0e42-430f-f438-8503a1859047"
      },
      "source": [
        "model3.add(Dense(4,activation='softmax')) # Output\n",
        "\n",
        "model3.compile(loss='categorical_crossentropy', optimizer='adam')\n",
        "model3.summary()"
      ],
      "execution_count": 8,
      "outputs": [
        {
          "output_type": "stream",
          "text": [
            "Model: \"sequential_2\"\n",
            "_________________________________________________________________\n",
            "Layer (type)                 Output Shape              Param #   \n",
            "=================================================================\n",
            "dense (Dense)                (None, 50)                250       \n",
            "_________________________________________________________________\n",
            "dense_1 (Dense)              (None, 25)                1275      \n",
            "_________________________________________________________________\n",
            "dense_3 (Dense)              (None, 4)                 104       \n",
            "=================================================================\n",
            "Total params: 1,629\n",
            "Trainable params: 104\n",
            "Non-trainable params: 1,525\n",
            "_________________________________________________________________\n"
          ],
          "name": "stdout"
        }
      ]
    }
  ]
}